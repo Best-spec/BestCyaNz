{
 "cells": [
  {
   "cell_type": "markdown",
   "metadata": {},
   "source": [
    "overlay"
   ]
  },
  {
   "cell_type": "code",
   "execution_count": null,
   "metadata": {},
   "outputs": [],
   "source": [
    "import tkinter as tk\n",
    "import pyautogui\n",
    "from PIL import Image, ImageTk\n",
    "\n",
    "# สร้างหน้าต่างหลัก\n",
    "root = tk.Tk()\n",
    "root.attributes(\"-topmost\", True)  # ให้หน้าต่างอยู่ด้านบนสุด\n",
    "root.overrideredirect(True)  # เอาขอบหน้าต่างออก (Borderless)\n",
    "root.geometry(\"1400x100+271+865\")  # ขนาดและตำแหน่งหน้าต่าง (กว้าง x สูง + ตำแหน่ง X + ตำแหน่ง Y)\n",
    "root.configure(bg=\"black\")  # ตั้งค่าสีพื้นหลังโปร่งใส\n",
    "# root.wm_attributes(\"-transparentcolor\", \"black\")\n",
    "# ข้อความที่จะแสดง\n",
    "text_label = tk.Label(root, text=\"🌟 แสดงข้อความ Overlay 🌟\", font=(\"tahoma\", 24), fg=\"white\", bg=\"black\")\n",
    "text_label.pack(expand=True)\n",
    "\n",
    "# ฟังก์ชันให้หน้าต่างสามารถลากได้\n",
    "def move_window(event):\n",
    "    root.geometry(f\"+{event.x_root}+{event.y_root}\")\n",
    "    print(event.x_root, event.y_root)\n",
    "\n",
    "# จับ event การลากหน้าต่าง\n",
    "text_label.bind(\"<B1-Motion>\", move_window)\n",
    "\n",
    "# เริ่มต้นแสดงหน้าต่าง\n",
    "root.mainloop()\n"
   ]
  },
  {
   "cell_type": "markdown",
   "metadata": {},
   "source": [
    "sc"
   ]
  },
  {
   "cell_type": "code",
   "execution_count": null,
   "metadata": {},
   "outputs": [],
   "source": [
    "import mss\n",
    "import numpy as np\n",
    "import cv2\n",
    "\n",
    "with mss.mss() as sct:\n",
    "    monitor = {\"top\": 970, \"left\": 200, \"width\": 1400, \"height\": 180}\n",
    "    screenshot = sct.grab(monitor)\n",
    "\n",
    "    # แปลงภาพเป็น OpenCV\n",
    "    img = np.array(screenshot)\n",
    "    img = cv2.cvtColor(img, cv2.COLOR_BGRA2BGR)\n",
    "\n",
    "    # แสดงภาพที่จับได้\n",
    "    cv2.imshow(\"Captured Region\", img)\n",
    "    cv2.waitKey(0)\n",
    "    cv2.destroyAllWindows()\n"
   ]
  },
  {
   "cell_type": "markdown",
   "metadata": {},
   "source": [
    "translate sub ui"
   ]
  },
  {
   "cell_type": "code",
   "execution_count": 3,
   "metadata": {},
   "outputs": [
    {
     "ename": "",
     "evalue": "",
     "output_type": "error",
     "traceback": [
      "\u001b[1;31mThe Kernel crashed while executing code in the current cell or a previous cell. \n",
      "\u001b[1;31mPlease review the code in the cell(s) to identify a possible cause of the failure. \n",
      "\u001b[1;31mClick <a href='https://aka.ms/vscodeJupyterKernelCrash'>here</a> for more info. \n",
      "\u001b[1;31mView Jupyter <a href='command:jupyter.viewOutput'>log</a> for further details."
     ]
    }
   ],
   "source": [
    "import tkinter as tk\n",
    "import pytesseract\n",
    "import mss\n",
    "import numpy as np\n",
    "import cv2\n",
    "import requests\n",
    "from PIL import Image, ImageTk\n",
    "import keyboard\n",
    "\n",
    "# ตั้งค่าตำแหน่งของ Tesseract OCR\n",
    "pytesseract.pytesseract.tesseract_cmd = r\"C:\\Program Files\\Tesseract-OCR\\tesseract.exe\"\n",
    "\n",
    "# ตั้งค่า API สำหรับแปลภาษา\n",
    "TRANSLATE_API_URL = \"http://localhost:8000/translate\"  # หรือใช้ Google Translate API\n",
    "\n",
    "# สร้างหน้าต่างหลัก\n",
    "root = tk.Tk()\n",
    "root.attributes(\"-topmost\", True)  # ให้หน้าต่างอยู่ด้านบนสุด\n",
    "root.overrideredirect(True)  # เอาขอบหน้าต่างออก (Borderless)\n",
    "root.geometry(\"1400x100+271+813\")  # ขนาดและตำแหน่งหน้าต่าง (กว้าง x สูง + ตำแหน่ง X + ตำแหน่ง Y)\n",
    "root.configure(bg=\"black\")  # ตั้งค่าสีพื้นหลังโปร่งใส\n",
    "root.wm_attributes(\"-transparentcolor\", \"black\")\n",
    "\n",
    "# ข้อความที่จะแสดง\n",
    "translated_text = tk.StringVar()\n",
    "\n",
    "text_label = tk.Label(root, textvariable=translated_text, font=(\"tahoma\", 20), fg=\"white\", bg=\"black\")\n",
    "text_label.pack(expand=True)\n",
    "\n",
    "def enhance_image(img):\n",
    "    \"\"\"เพิ่มคอนทราสต์และทำให้ภาพคมชัดขึ้น\"\"\"\n",
    "    # ปรับคอนทราสต์\n",
    "    lab = cv2.cvtColor(img, cv2.COLOR_BGR2Lab)\n",
    "    l, a, b = cv2.split(lab)\n",
    "    l = cv2.equalizeHist(l)  # ปรับ histogram\n",
    "    lab = cv2.merge([l, a, b])\n",
    "    img = cv2.cvtColor(lab, cv2.COLOR_Lab2BGR)\n",
    "\n",
    "    # การทำให้ภาพคมชัด\n",
    "    kernel = np.array([[0, -1, 0], [-1, 5,-1], [0, -1, 0]])  # Kernel สำหรับ sharpening\n",
    "    img = cv2.filter2D(img, -1, kernel)\n",
    "\n",
    "    # ปรับแสง\n",
    "    img = cv2.convertScaleAbs(img, alpha=1.5, beta=0)\n",
    "    return img\n",
    "\n",
    "def preprocess_image(img):\n",
    "    \"\"\"ทำการแปลงภาพเพื่อเพิ่มความชัดเจน\"\"\"\n",
    "    # แปลงเป็นขาวดำ\n",
    "    img = cv2.cvtColor(img, cv2.COLOR_BGRA2GRAY)  # แปลงเป็น grayscale\n",
    "    # ใช้ Otsu thresholding เพื่อแปลงภาพเป็น binary\n",
    "    _, img = cv2.threshold(img, 0, 255, cv2.THRESH_BINARY + cv2.THRESH_OTSU)\n",
    "    return img\n",
    "\n",
    "\n",
    "def capture_screen():\n",
    "    with mss.mss() as sct:\n",
    "        # เลือกพื้นที่ของหน้าจอ (แก้ให้ตรงกับตำแหน่งซับเกม)\n",
    "        monitor = {\"top\": 900, \"left\": 200, \"width\": 1400, \"height\": 200}\n",
    "        screenshot = sct.grab(monitor)\n",
    "\n",
    "        # แปลงภาพเป็น OpenCV\n",
    "        img = np.array(screenshot)\n",
    "        img = cv2.cvtColor(img, cv2.COLOR_BGRA2GRAY)  # แปลงเป็นขาวดำ\n",
    "        img = cv2.threshold(img, 0, 255, cv2.THRESH_BINARY + cv2.THRESH_OTSU)[1]  # เพิ่ม contrast\n",
    "        \n",
    "        # ใช้ OCR ดึงข้อความ\n",
    "        text = pytesseract.image_to_string(img, lang=\"eng\")  # เปลี่ยน \"eng\" เป็น \"tha\" ถ้าเป็นภาษาไทย\n",
    "        return text.strip()\n",
    "\n",
    "def translate_text(text):\n",
    "    \"\"\"ส่งข้อความไปยัง API แปลภาษา\"\"\"\n",
    "    if not text:\n",
    "        return \"\"\n",
    "    data = {\"text\": text, \"to\": \"th\"}  # แปลเป็นภาษาไทย\n",
    "    response = requests.post(TRANSLATE_API_URL, json=data)\n",
    "    if response.status_code == 200:\n",
    "        return response.json().get(\"translatedText\", \"แปลไม่ได้\")\n",
    "    return \"เกิดข้อผิดพลาด\"\n",
    "    \n",
    "\n",
    "def update_subtitles():\n",
    "    \"\"\"อัพเดตซับไตเติลเกมแบบ Realtime\"\"\"\n",
    "    text = capture_screen()\n",
    "    if text:     \n",
    "        translated_text.set(translate_text(text))  # แสดงข้อความที่แปลแล้ว\n",
    "    root.after(250, update_subtitles)  # อัพเดตทุก 1 วินาที\n",
    "\n",
    "# ฟังก์ชันปิดโปรแกรม\n",
    "def close_program(event=None):\n",
    "    root.destroy()\n",
    "\n",
    "# ฟังก์ชันให้หน้าต่างสามารถลากได้\n",
    "def move_window(event):\n",
    "    root.geometry(f\"+{event.x_root}+{event.y_root}\")\n",
    "    print(event.x_root, event.y_root)\n",
    "\n",
    "# จับ event การลากหน้าต่าง\n",
    "text_label.bind(\"<B1-Motion>\", move_window)\n",
    "\n",
    "# จับปุ่ม F1 เพื่อปิดโปรแกรม\n",
    "keyboard.add_hotkey('F1', close_program)\n",
    "\n",
    "# เริ่มจับภาพและแปล\n",
    "update_subtitles()\n",
    "\n",
    "root.mainloop()\n"
   ]
  },
  {
   "cell_type": "markdown",
   "metadata": {},
   "source": [
    "sound read"
   ]
  },
  {
   "cell_type": "code",
   "execution_count": null,
   "metadata": {},
   "outputs": [],
   "source": [
    "import speech_recognition as sr\n",
    "\n",
    "# เลือกไมค์ (เปลี่ยน index ตามอุปกรณ์ที่ต้องการ)\n",
    "mic_index = 1  # ลองเปลี่ยนเป็น 1, 2, ... ถ้าไม่ได้ยิน\n",
    "\n",
    "# เริ่มฟังเสียง\n",
    "recognizer = sr.Recognizer()\n",
    "with sr.Microphone(device_index=mic_index) as source:\n",
    "    recognizer.adjust_for_ambient_noise(source, duration=2)  # ปรับเสียงรบกวน\n",
    "    print(\"🎤 กำลังฟัง... พูดอะไรบางอย่าง!\")\n",
    "    while True:\n",
    "        try:\n",
    "            audio = recognizer.listen(source, timeout=5, phrase_time_limit=8)\n",
    "            text = recognizer.recognize_google(audio)\n",
    "            print(f\"📝 ข้อความที่ได้: {text}\")\n",
    "        except sr.UnknownValueError:\n",
    "            print(\"❌ ไม่ได้ยินเสียงพูด!\")\n",
    "        except sr.RequestError:\n",
    "            print(\"⚠️ มีปัญหาในการเชื่อมต่อกับ Google Speech API\")\n"
   ]
  },
  {
   "cell_type": "code",
   "execution_count": null,
   "metadata": {},
   "outputs": [],
   "source": [
    "import pyaudio\n",
    "\n",
    "p = pyaudio.PyAudio()\n",
    "device_count = p.get_device_count()\n",
    "\n",
    "for i in range(device_count):\n",
    "    device_info = p.get_device_info_by_index(i)\n",
    "    print(f\"Device {i}: {device_info['name']}\")"
   ]
  },
  {
   "cell_type": "code",
   "execution_count": null,
   "metadata": {},
   "outputs": [],
   "source": []
  }
 ],
 "metadata": {
  "kernelspec": {
   "display_name": "Python 3",
   "language": "python",
   "name": "python3"
  },
  "language_info": {
   "codemirror_mode": {
    "name": "ipython",
    "version": 3
   },
   "file_extension": ".py",
   "mimetype": "text/x-python",
   "name": "python",
   "nbconvert_exporter": "python",
   "pygments_lexer": "ipython3",
   "version": "3.13.2"
  }
 },
 "nbformat": 4,
 "nbformat_minor": 2
}
